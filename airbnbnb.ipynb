{
 "cells": [
  {
   "cell_type": "markdown",
   "id": "886f1b22-d262-4f65-893c-4c06dd2693a9",
   "metadata": {
    "tags": []
   },
   "source": [
    "<center> <h1> Digging into Airbnb NYC data. </h1>\n",
    "<h3> Nordin Shafiq, IEEE CSC. </h3>\n",
    "<h5> Task 2 - Data Science Committee </h5> </center>"
   ]
  },
  {
   "cell_type": "code",
   "execution_count": 1,
   "id": "e7f21450-81ae-4b5b-92d3-f81d36082294",
   "metadata": {},
   "outputs": [
    {
     "data": {
      "text/html": [
       "<div class='tableauPlaceholder' id='viz1658347811622' style='position: relative'><noscript><a href='#'><img alt='Dashboard 1 ' src='https:&#47;&#47;public.tableau.com&#47;static&#47;images&#47;Ai&#47;AirbnbTask&#47;Dashboard1&#47;1_rss.png' style='border: none' /></a></noscript><object class='tableauViz'  style='display:none;'><param name='host_url' value='https%3A%2F%2Fpublic.tableau.com%2F' /> <param name='embed_code_version' value='3' /> <param name='path' value='views&#47;AirbnbTask&#47;Dashboard1?:language=en-US&amp;:embed=true' /> <param name='toolbar' value='yes' /><param name='static_image' value='https:&#47;&#47;public.tableau.com&#47;static&#47;images&#47;Ai&#47;AirbnbTask&#47;Dashboard1&#47;1.png' /> <param name='animate_transition' value='yes' /><param name='display_static_image' value='yes' /><param name='display_spinner' value='yes' /><param name='display_overlay' value='yes' /><param name='display_count' value='yes' /><param name='language' value='en-US' /></object></div>                <script type='text/javascript'>                    var divElement = document.getElementById('viz1658347811622');                    var vizElement = divElement.getElementsByTagName('object')[0];                    if ( divElement.offsetWidth > 800 ) { vizElement.style.width='1000px';vizElement.style.height='827px';} else if ( divElement.offsetWidth > 500 ) { vizElement.style.width='1000px';vizElement.style.height='827px';} else { vizElement.style.width='100%';vizElement.style.height='1227px';}                     var scriptElement = document.createElement('script');                    scriptElement.src = 'https://public.tableau.com/javascripts/api/viz_v1.js';                    vizElement.parentNode.insertBefore(scriptElement, vizElement);                </script>\n"
      ],
      "text/plain": [
       "<IPython.core.display.HTML object>"
      ]
     },
     "metadata": {},
     "output_type": "display_data"
    }
   ],
   "source": [
    "%%HTML\n",
    "<div class='tableauPlaceholder' id='viz1658347811622' style='position: relative'><noscript><a href='#'><img alt='Dashboard 1 ' src='https:&#47;&#47;public.tableau.com&#47;static&#47;images&#47;Ai&#47;AirbnbTask&#47;Dashboard1&#47;1_rss.png' style='border: none' /></a></noscript><object class='tableauViz'  style='display:none;'><param name='host_url' value='https%3A%2F%2Fpublic.tableau.com%2F' /> <param name='embed_code_version' value='3' /> <param name='path' value='views&#47;AirbnbTask&#47;Dashboard1?:language=en-US&amp;:embed=true' /> <param name='toolbar' value='yes' /><param name='static_image' value='https:&#47;&#47;public.tableau.com&#47;static&#47;images&#47;Ai&#47;AirbnbTask&#47;Dashboard1&#47;1.png' /> <param name='animate_transition' value='yes' /><param name='display_static_image' value='yes' /><param name='display_spinner' value='yes' /><param name='display_overlay' value='yes' /><param name='display_count' value='yes' /><param name='language' value='en-US' /></object></div>                <script type='text/javascript'>                    var divElement = document.getElementById('viz1658347811622');                    var vizElement = divElement.getElementsByTagName('object')[0];                    if ( divElement.offsetWidth > 800 ) { vizElement.style.width='1000px';vizElement.style.height='827px';} else if ( divElement.offsetWidth > 500 ) { vizElement.style.width='1000px';vizElement.style.height='827px';} else { vizElement.style.width='100%';vizElement.style.height='1227px';}                     var scriptElement = document.createElement('script');                    scriptElement.src = 'https://public.tableau.com/javascripts/api/viz_v1.js';                    vizElement.parentNode.insertBefore(scriptElement, vizElement);                </script>"
   ]
  },
  {
   "cell_type": "markdown",
   "id": "4dad6c09-b2a8-4346-98f7-361a12ce6b84",
   "metadata": {},
   "source": [
    "The previous <a href=\"https://public.tableau.com/views/AirbnbTask/Dashboard1?:language=en-US&:display_count=n&:origin=viz_share_link\">Dashboard</a> shows us several things.\n",
    "\n",
    "On mapping it out we can see:\n",
    " * How is the average price ranging over NYC\n",
    " * How review scores rating is handy in choosing a well-rated place that is fair price-wise\n",
    " \n",
    "How hot!\n",
    " * How price is related also to the type of room, for example, an entire apartment is way more hot than a private room, and it's logically straightforward, but the size of the circles discribes how much ratings this type of property get, knowing that, we may trust the ratings of the bigger circles more.\n",
    " \n",
    "Like the job?\n",
    " * Here we can see how hot (pricy) are properties according to their owners' starting-job-quarter-of-a-year\n",
    " * Also how consistent are the averages of ratings and how it relates to older owners (or the pricy ones).\n",
    " \n",
    " \n",
    "Provided the quick insights from above we may continue to explore the data, prepare it for machine learning purposes."
   ]
  },
  {
   "cell_type": "code",
   "execution_count": 2,
   "id": "bb9769db-77e3-4a45-b5b5-4b83fe2f2037",
   "metadata": {},
   "outputs": [],
   "source": [
    "import numpy as np\n",
    "import pandas as pd\n",
    "import matplotlib.pyplot as plt\n",
    "import seaborn as sns\n",
    "import warnings\n",
    "warnings.filterwarnings('ignore')\n",
    "df = pd.read_excel('airbnb.xlsx')"
   ]
  },
  {
   "cell_type": "code",
   "execution_count": 3,
   "id": "0a57bf36-8221-4e77-9a42-ddacf1ef9cfa",
   "metadata": {},
   "outputs": [],
   "source": [
    "df.columns = df.columns.to_series().apply(lambda x: x.strip())"
   ]
  },
  {
   "cell_type": "code",
   "execution_count": 4,
   "id": "e44370e9-a4e2-4a59-83f4-5dfa393aff29",
   "metadata": {},
   "outputs": [
    {
     "data": {
      "text/html": [
       "<div>\n",
       "<style scoped>\n",
       "    .dataframe tbody tr th:only-of-type {\n",
       "        vertical-align: middle;\n",
       "    }\n",
       "\n",
       "    .dataframe tbody tr th {\n",
       "        vertical-align: top;\n",
       "    }\n",
       "\n",
       "    .dataframe thead th {\n",
       "        text-align: right;\n",
       "    }\n",
       "</style>\n",
       "<table border=\"1\" class=\"dataframe\">\n",
       "  <thead>\n",
       "    <tr style=\"text-align: right;\">\n",
       "      <th></th>\n",
       "      <th>Host Id</th>\n",
       "      <th>Host Since</th>\n",
       "      <th>Name</th>\n",
       "      <th>Neighbourhood</th>\n",
       "      <th>Property Type</th>\n",
       "      <th>Review Scores Rating (bin)</th>\n",
       "      <th>Room Type</th>\n",
       "      <th>Zipcode</th>\n",
       "      <th>Beds</th>\n",
       "      <th>Number of Records</th>\n",
       "      <th>Number Of Reviews</th>\n",
       "      <th>Price</th>\n",
       "      <th>Review Scores Rating</th>\n",
       "    </tr>\n",
       "  </thead>\n",
       "  <tbody>\n",
       "    <tr>\n",
       "      <th>0</th>\n",
       "      <td>5162530</td>\n",
       "      <td>NaT</td>\n",
       "      <td>1 Bedroom in Prime Williamsburg</td>\n",
       "      <td>Brooklyn</td>\n",
       "      <td>Apartment</td>\n",
       "      <td>NaN</td>\n",
       "      <td>Entire home/apt</td>\n",
       "      <td>11249.0</td>\n",
       "      <td>1.0</td>\n",
       "      <td>1</td>\n",
       "      <td>0</td>\n",
       "      <td>145</td>\n",
       "      <td>NaN</td>\n",
       "    </tr>\n",
       "    <tr>\n",
       "      <th>1</th>\n",
       "      <td>33134899</td>\n",
       "      <td>NaT</td>\n",
       "      <td>Sunny, Private room in Bushwick</td>\n",
       "      <td>Brooklyn</td>\n",
       "      <td>Apartment</td>\n",
       "      <td>NaN</td>\n",
       "      <td>Private room</td>\n",
       "      <td>11206.0</td>\n",
       "      <td>1.0</td>\n",
       "      <td>1</td>\n",
       "      <td>1</td>\n",
       "      <td>37</td>\n",
       "      <td>NaN</td>\n",
       "    </tr>\n",
       "    <tr>\n",
       "      <th>2</th>\n",
       "      <td>39608626</td>\n",
       "      <td>NaT</td>\n",
       "      <td>Sunny Room in Harlem</td>\n",
       "      <td>Manhattan</td>\n",
       "      <td>Apartment</td>\n",
       "      <td>NaN</td>\n",
       "      <td>Private room</td>\n",
       "      <td>10032.0</td>\n",
       "      <td>1.0</td>\n",
       "      <td>1</td>\n",
       "      <td>1</td>\n",
       "      <td>28</td>\n",
       "      <td>NaN</td>\n",
       "    </tr>\n",
       "    <tr>\n",
       "      <th>3</th>\n",
       "      <td>500</td>\n",
       "      <td>2008-06-26</td>\n",
       "      <td>Gorgeous 1 BR with Private Balcony</td>\n",
       "      <td>Manhattan</td>\n",
       "      <td>Apartment</td>\n",
       "      <td>NaN</td>\n",
       "      <td>Entire home/apt</td>\n",
       "      <td>10024.0</td>\n",
       "      <td>3.0</td>\n",
       "      <td>1</td>\n",
       "      <td>0</td>\n",
       "      <td>199</td>\n",
       "      <td>NaN</td>\n",
       "    </tr>\n",
       "    <tr>\n",
       "      <th>4</th>\n",
       "      <td>500</td>\n",
       "      <td>2008-06-26</td>\n",
       "      <td>Trendy Times Square Loft</td>\n",
       "      <td>Manhattan</td>\n",
       "      <td>Apartment</td>\n",
       "      <td>95.0</td>\n",
       "      <td>Private room</td>\n",
       "      <td>10036.0</td>\n",
       "      <td>3.0</td>\n",
       "      <td>1</td>\n",
       "      <td>39</td>\n",
       "      <td>549</td>\n",
       "      <td>96.0</td>\n",
       "    </tr>\n",
       "  </tbody>\n",
       "</table>\n",
       "</div>"
      ],
      "text/plain": [
       "    Host Id Host Since                                Name Neighbourhood  \\\n",
       "0   5162530        NaT     1 Bedroom in Prime Williamsburg      Brooklyn   \n",
       "1  33134899        NaT     Sunny, Private room in Bushwick      Brooklyn   \n",
       "2  39608626        NaT                Sunny Room in Harlem     Manhattan   \n",
       "3       500 2008-06-26  Gorgeous 1 BR with Private Balcony     Manhattan   \n",
       "4       500 2008-06-26            Trendy Times Square Loft     Manhattan   \n",
       "\n",
       "  Property Type  Review Scores Rating (bin)        Room Type  Zipcode  Beds  \\\n",
       "0     Apartment                         NaN  Entire home/apt  11249.0   1.0   \n",
       "1     Apartment                         NaN     Private room  11206.0   1.0   \n",
       "2     Apartment                         NaN     Private room  10032.0   1.0   \n",
       "3     Apartment                         NaN  Entire home/apt  10024.0   3.0   \n",
       "4     Apartment                        95.0     Private room  10036.0   3.0   \n",
       "\n",
       "   Number of Records  Number Of Reviews  Price  Review Scores Rating  \n",
       "0                  1                  0    145                   NaN  \n",
       "1                  1                  1     37                   NaN  \n",
       "2                  1                  1     28                   NaN  \n",
       "3                  1                  0    199                   NaN  \n",
       "4                  1                 39    549                  96.0  "
      ]
     },
     "execution_count": 4,
     "metadata": {},
     "output_type": "execute_result"
    }
   ],
   "source": [
    "df.head()"
   ]
  },
  {
   "cell_type": "code",
   "execution_count": 5,
   "id": "b785cb2e-7175-40d5-abfd-c2d068fcafcd",
   "metadata": {},
   "outputs": [
    {
     "data": {
      "text/html": [
       "<div>\n",
       "<style scoped>\n",
       "    .dataframe tbody tr th:only-of-type {\n",
       "        vertical-align: middle;\n",
       "    }\n",
       "\n",
       "    .dataframe tbody tr th {\n",
       "        vertical-align: top;\n",
       "    }\n",
       "\n",
       "    .dataframe thead th {\n",
       "        text-align: right;\n",
       "    }\n",
       "</style>\n",
       "<table border=\"1\" class=\"dataframe\">\n",
       "  <thead>\n",
       "    <tr style=\"text-align: right;\">\n",
       "      <th></th>\n",
       "      <th>Beds</th>\n",
       "      <th>Number of Records</th>\n",
       "      <th>Number Of Reviews</th>\n",
       "      <th>Price</th>\n",
       "      <th>Review Scores Rating</th>\n",
       "    </tr>\n",
       "  </thead>\n",
       "  <tbody>\n",
       "    <tr>\n",
       "      <th>count</th>\n",
       "      <td>30393.000000</td>\n",
       "      <td>30478.0</td>\n",
       "      <td>30478.000000</td>\n",
       "      <td>30478.000000</td>\n",
       "      <td>22155.000000</td>\n",
       "    </tr>\n",
       "    <tr>\n",
       "      <th>mean</th>\n",
       "      <td>1.530089</td>\n",
       "      <td>1.0</td>\n",
       "      <td>12.018735</td>\n",
       "      <td>163.589737</td>\n",
       "      <td>91.993230</td>\n",
       "    </tr>\n",
       "    <tr>\n",
       "      <th>std</th>\n",
       "      <td>1.015359</td>\n",
       "      <td>0.0</td>\n",
       "      <td>21.980703</td>\n",
       "      <td>197.785454</td>\n",
       "      <td>8.850373</td>\n",
       "    </tr>\n",
       "    <tr>\n",
       "      <th>min</th>\n",
       "      <td>0.000000</td>\n",
       "      <td>1.0</td>\n",
       "      <td>0.000000</td>\n",
       "      <td>10.000000</td>\n",
       "      <td>20.000000</td>\n",
       "    </tr>\n",
       "    <tr>\n",
       "      <th>25%</th>\n",
       "      <td>1.000000</td>\n",
       "      <td>1.0</td>\n",
       "      <td>0.000000</td>\n",
       "      <td>80.000000</td>\n",
       "      <td>89.000000</td>\n",
       "    </tr>\n",
       "    <tr>\n",
       "      <th>50%</th>\n",
       "      <td>1.000000</td>\n",
       "      <td>1.0</td>\n",
       "      <td>3.000000</td>\n",
       "      <td>125.000000</td>\n",
       "      <td>94.000000</td>\n",
       "    </tr>\n",
       "    <tr>\n",
       "      <th>75%</th>\n",
       "      <td>2.000000</td>\n",
       "      <td>1.0</td>\n",
       "      <td>13.000000</td>\n",
       "      <td>195.000000</td>\n",
       "      <td>100.000000</td>\n",
       "    </tr>\n",
       "    <tr>\n",
       "      <th>max</th>\n",
       "      <td>16.000000</td>\n",
       "      <td>1.0</td>\n",
       "      <td>257.000000</td>\n",
       "      <td>10000.000000</td>\n",
       "      <td>100.000000</td>\n",
       "    </tr>\n",
       "  </tbody>\n",
       "</table>\n",
       "</div>"
      ],
      "text/plain": [
       "               Beds  Number of Records  Number Of Reviews         Price  \\\n",
       "count  30393.000000            30478.0       30478.000000  30478.000000   \n",
       "mean       1.530089                1.0          12.018735    163.589737   \n",
       "std        1.015359                0.0          21.980703    197.785454   \n",
       "min        0.000000                1.0           0.000000     10.000000   \n",
       "25%        1.000000                1.0           0.000000     80.000000   \n",
       "50%        1.000000                1.0           3.000000    125.000000   \n",
       "75%        2.000000                1.0          13.000000    195.000000   \n",
       "max       16.000000                1.0         257.000000  10000.000000   \n",
       "\n",
       "       Review Scores Rating  \n",
       "count          22155.000000  \n",
       "mean              91.993230  \n",
       "std                8.850373  \n",
       "min               20.000000  \n",
       "25%               89.000000  \n",
       "50%               94.000000  \n",
       "75%              100.000000  \n",
       "max              100.000000  "
      ]
     },
     "execution_count": 5,
     "metadata": {},
     "output_type": "execute_result"
    }
   ],
   "source": [
    "df[['Beds', 'Number of Records', 'Number Of Reviews', 'Price', 'Review Scores Rating']].describe()"
   ]
  },
  {
   "cell_type": "code",
   "execution_count": 6,
   "id": "246f3c7d-b397-4065-a564-38440853bee7",
   "metadata": {},
   "outputs": [
    {
     "name": "stdout",
     "output_type": "stream",
     "text": [
      "<class 'pandas.core.frame.DataFrame'>\n",
      "RangeIndex: 30478 entries, 0 to 30477\n",
      "Data columns (total 13 columns):\n",
      " #   Column                      Non-Null Count  Dtype         \n",
      "---  ------                      --------------  -----         \n",
      " 0   Host Id                     30478 non-null  int64         \n",
      " 1   Host Since                  30475 non-null  datetime64[ns]\n",
      " 2   Name                        30478 non-null  object        \n",
      " 3   Neighbourhood               30478 non-null  object        \n",
      " 4   Property Type               30475 non-null  object        \n",
      " 5   Review Scores Rating (bin)  22155 non-null  float64       \n",
      " 6   Room Type                   30478 non-null  object        \n",
      " 7   Zipcode                     30344 non-null  float64       \n",
      " 8   Beds                        30393 non-null  float64       \n",
      " 9   Number of Records           30478 non-null  int64         \n",
      " 10  Number Of Reviews           30478 non-null  int64         \n",
      " 11  Price                       30478 non-null  int64         \n",
      " 12  Review Scores Rating        22155 non-null  float64       \n",
      "dtypes: datetime64[ns](1), float64(4), int64(4), object(4)\n",
      "memory usage: 3.0+ MB\n"
     ]
    }
   ],
   "source": [
    "df.info()"
   ]
  },
  {
   "cell_type": "markdown",
   "id": "4734084a-6875-41e3-9fff-1898e08132b4",
   "metadata": {},
   "source": [
    "Eyeballing the data, we see some interesting scenarios in which it can be useful. For instance, we may try to predict the rating using neighbourhood, room type, and price."
   ]
  },
  {
   "cell_type": "code",
   "execution_count": 7,
   "id": "4e45aab8-5610-4034-a050-ac798c8b13ba",
   "metadata": {},
   "outputs": [],
   "source": [
    "#Let's subset our data\n",
    "df = df[['Neighbourhood', 'Room Type', 'Price', 'Review Scores Rating']]\n",
    "#We'll drop all null values as 'Review Scores Rating' is the target variable\n",
    "df.dropna(inplace = True)"
   ]
  },
  {
   "cell_type": "code",
   "execution_count": 8,
   "id": "d60edbb5-0f52-438a-bd16-86e182bc7d60",
   "metadata": {},
   "outputs": [
    {
     "data": {
      "text/html": [
       "<div>\n",
       "<style scoped>\n",
       "    .dataframe tbody tr th:only-of-type {\n",
       "        vertical-align: middle;\n",
       "    }\n",
       "\n",
       "    .dataframe tbody tr th {\n",
       "        vertical-align: top;\n",
       "    }\n",
       "\n",
       "    .dataframe thead th {\n",
       "        text-align: right;\n",
       "    }\n",
       "</style>\n",
       "<table border=\"1\" class=\"dataframe\">\n",
       "  <thead>\n",
       "    <tr style=\"text-align: right;\">\n",
       "      <th></th>\n",
       "      <th>Price</th>\n",
       "      <th>Review Scores Rating</th>\n",
       "    </tr>\n",
       "  </thead>\n",
       "  <tbody>\n",
       "    <tr>\n",
       "      <th>count</th>\n",
       "      <td>22155.000000</td>\n",
       "      <td>22155.000000</td>\n",
       "    </tr>\n",
       "    <tr>\n",
       "      <th>mean</th>\n",
       "      <td>154.787633</td>\n",
       "      <td>91.993230</td>\n",
       "    </tr>\n",
       "    <tr>\n",
       "      <th>std</th>\n",
       "      <td>148.836621</td>\n",
       "      <td>8.850373</td>\n",
       "    </tr>\n",
       "    <tr>\n",
       "      <th>min</th>\n",
       "      <td>10.000000</td>\n",
       "      <td>20.000000</td>\n",
       "    </tr>\n",
       "    <tr>\n",
       "      <th>25%</th>\n",
       "      <td>85.000000</td>\n",
       "      <td>89.000000</td>\n",
       "    </tr>\n",
       "    <tr>\n",
       "      <th>50%</th>\n",
       "      <td>125.000000</td>\n",
       "      <td>94.000000</td>\n",
       "    </tr>\n",
       "    <tr>\n",
       "      <th>75%</th>\n",
       "      <td>190.000000</td>\n",
       "      <td>100.000000</td>\n",
       "    </tr>\n",
       "    <tr>\n",
       "      <th>max</th>\n",
       "      <td>10000.000000</td>\n",
       "      <td>100.000000</td>\n",
       "    </tr>\n",
       "  </tbody>\n",
       "</table>\n",
       "</div>"
      ],
      "text/plain": [
       "              Price  Review Scores Rating\n",
       "count  22155.000000          22155.000000\n",
       "mean     154.787633             91.993230\n",
       "std      148.836621              8.850373\n",
       "min       10.000000             20.000000\n",
       "25%       85.000000             89.000000\n",
       "50%      125.000000             94.000000\n",
       "75%      190.000000            100.000000\n",
       "max    10000.000000            100.000000"
      ]
     },
     "execution_count": 8,
     "metadata": {},
     "output_type": "execute_result"
    }
   ],
   "source": [
    "df.describe()"
   ]
  },
  {
   "cell_type": "code",
   "execution_count": 9,
   "id": "d891630c-4672-4e1f-ac0d-540de9809826",
   "metadata": {},
   "outputs": [
    {
     "data": {
      "text/html": [
       "<div>\n",
       "<style scoped>\n",
       "    .dataframe tbody tr th:only-of-type {\n",
       "        vertical-align: middle;\n",
       "    }\n",
       "\n",
       "    .dataframe tbody tr th {\n",
       "        vertical-align: top;\n",
       "    }\n",
       "\n",
       "    .dataframe thead th {\n",
       "        text-align: right;\n",
       "    }\n",
       "</style>\n",
       "<table border=\"1\" class=\"dataframe\">\n",
       "  <thead>\n",
       "    <tr style=\"text-align: right;\">\n",
       "      <th></th>\n",
       "      <th>mean</th>\n",
       "      <th>std</th>\n",
       "      <th>min</th>\n",
       "      <th>max</th>\n",
       "    </tr>\n",
       "  </thead>\n",
       "  <tbody>\n",
       "    <tr>\n",
       "      <th>Price</th>\n",
       "      <td>154.787633</td>\n",
       "      <td>148.836621</td>\n",
       "      <td>10.0</td>\n",
       "      <td>10000.0</td>\n",
       "    </tr>\n",
       "    <tr>\n",
       "      <th>Review Scores Rating</th>\n",
       "      <td>91.993230</td>\n",
       "      <td>8.850373</td>\n",
       "      <td>20.0</td>\n",
       "      <td>100.0</td>\n",
       "    </tr>\n",
       "    <tr>\n",
       "      <th>Neighbourhood_Bronx</th>\n",
       "      <td>0.009795</td>\n",
       "      <td>0.098484</td>\n",
       "      <td>0.0</td>\n",
       "      <td>1.0</td>\n",
       "    </tr>\n",
       "    <tr>\n",
       "      <th>Neighbourhood_Brooklyn</th>\n",
       "      <td>0.383074</td>\n",
       "      <td>0.486147</td>\n",
       "      <td>0.0</td>\n",
       "      <td>1.0</td>\n",
       "    </tr>\n",
       "    <tr>\n",
       "      <th>Neighbourhood_Manhattan</th>\n",
       "      <td>0.531031</td>\n",
       "      <td>0.499047</td>\n",
       "      <td>0.0</td>\n",
       "      <td>1.0</td>\n",
       "    </tr>\n",
       "    <tr>\n",
       "      <th>Neighbourhood_Queens</th>\n",
       "      <td>0.071767</td>\n",
       "      <td>0.258108</td>\n",
       "      <td>0.0</td>\n",
       "      <td>1.0</td>\n",
       "    </tr>\n",
       "    <tr>\n",
       "      <th>Neighbourhood_Staten Island</th>\n",
       "      <td>0.004333</td>\n",
       "      <td>0.065685</td>\n",
       "      <td>0.0</td>\n",
       "      <td>1.0</td>\n",
       "    </tr>\n",
       "    <tr>\n",
       "      <th>Room Type_Entire home/apt</th>\n",
       "      <td>0.581539</td>\n",
       "      <td>0.493318</td>\n",
       "      <td>0.0</td>\n",
       "      <td>1.0</td>\n",
       "    </tr>\n",
       "    <tr>\n",
       "      <th>Room Type_Private room</th>\n",
       "      <td>0.393997</td>\n",
       "      <td>0.488645</td>\n",
       "      <td>0.0</td>\n",
       "      <td>1.0</td>\n",
       "    </tr>\n",
       "    <tr>\n",
       "      <th>Room Type_Shared room</th>\n",
       "      <td>0.024464</td>\n",
       "      <td>0.154488</td>\n",
       "      <td>0.0</td>\n",
       "      <td>1.0</td>\n",
       "    </tr>\n",
       "  </tbody>\n",
       "</table>\n",
       "</div>"
      ],
      "text/plain": [
       "                                   mean         std   min      max\n",
       "Price                        154.787633  148.836621  10.0  10000.0\n",
       "Review Scores Rating          91.993230    8.850373  20.0    100.0\n",
       "Neighbourhood_Bronx            0.009795    0.098484   0.0      1.0\n",
       "Neighbourhood_Brooklyn         0.383074    0.486147   0.0      1.0\n",
       "Neighbourhood_Manhattan        0.531031    0.499047   0.0      1.0\n",
       "Neighbourhood_Queens           0.071767    0.258108   0.0      1.0\n",
       "Neighbourhood_Staten Island    0.004333    0.065685   0.0      1.0\n",
       "Room Type_Entire home/apt      0.581539    0.493318   0.0      1.0\n",
       "Room Type_Private room         0.393997    0.488645   0.0      1.0\n",
       "Room Type_Shared room          0.024464    0.154488   0.0      1.0"
      ]
     },
     "execution_count": 9,
     "metadata": {},
     "output_type": "execute_result"
    }
   ],
   "source": [
    "data = pd.get_dummies(df)\n",
    "data.describe().T[['mean', 'std', 'min', 'max']]"
   ]
  },
  {
   "cell_type": "markdown",
   "id": "68a0e41e-7040-4e7e-baa0-4bf83c72fdd7",
   "metadata": {},
   "source": [
    "The table above shows calculations on the dummies, each sub-variable mean is it's probability in the dataset. For example, from rows 3 to 7 (Neighbourhood sub-variables), the sum of their means values is = 1, then each mean value is it's variable's presence in the dataset, hence the probability.\n",
    "So, we can see that most of these observations (53.1% of the cleaned-no-null data) were made to Manhattan. Also, most of rooms were 'Entire home/apt' (58.15% of the cleaned-no-null data), supporting the tableau dashboard previously presented."
   ]
  },
  {
   "cell_type": "code",
   "execution_count": 10,
   "id": "31ea0c8e-2aca-46ea-b795-2540253592db",
   "metadata": {},
   "outputs": [
    {
     "data": {
      "image/png": "[encoded data removed]",
      "text/plain": [
       "<Figure size 1440x1080 with 2 Axes>"
      ]
     },
     "metadata": {
      "needs_background": "light"
     },
     "output_type": "display_data"
    }
   ],
   "source": [
    "from sklearn import linear_model; from sklearn.model_selection import train_test_split\n",
    "y = data.pop('Review Scores Rating')\n",
    "\n",
    "#Create a heatmap for df\n",
    "fig = plt.figure(figsize = (20,15))\n",
    "ax = fig.gca()\n",
    "c = data.corr()\n",
    "sns.heatmap(c, annot = True, ax = ax);"
   ]
  },
  {
   "cell_type": "markdown",
   "id": "101a221b-abad-4e3d-ae7a-fe87a8f2a006",
   "metadata": {},
   "source": [
    "Based on the above figure, I guess it's right to choose them for regresison."
   ]
  },
  {
   "cell_type": "code",
   "execution_count": 11,
   "id": "12cd008b-68d2-4c1a-82d6-ba5ae7d7ae3c",
   "metadata": {},
   "outputs": [
    {
     "data": {
      "text/plain": [
       "array([ 0.00233493,  0.50659901,  0.71445057, -0.13875235,  0.04703767,\n",
       "       -1.12933491,  0.90904099, -0.25312487, -0.65591611])"
      ]
     },
     "execution_count": 11,
     "metadata": {},
     "output_type": "execute_result"
    }
   ],
   "source": [
    "X_train, X_test, y_train, y_test = train_test_split(data, y, test_size=0.2, random_state=42)\n",
    "reg = linear_model.LinearRegression()\n",
    "reg.fit(X_train, y_train)\n",
    "reg.coef_"
   ]
  },
  {
   "cell_type": "markdown",
   "id": "91b67350-b549-4aa0-97d5-ca00f5ec0c00",
   "metadata": {},
   "source": [
    "Now, for example, let's see how likely it is that people like a private room that is in the bronx at 120$."
   ]
  },
  {
   "cell_type": "code",
   "execution_count": 12,
   "id": "2bf4b007-5943-449f-bbbe-df37a08e8d41",
   "metadata": {},
   "outputs": [
    {
     "name": "stdout",
     "output_type": "stream",
     "text": [
      "Its predicted score is 91.5%\n"
     ]
    }
   ],
   "source": [
    "print(\"Its predicted score is {:.3}%\".format(float(reg.predict([[120, 1, 0, 0, 0, 0, 0, 1, 0]])))) #the input is translated in the dummy form"
   ]
  },
  {
   "cell_type": "markdown",
   "id": "decb82b2-5bdd-4747-87e3-c48d318319d1",
   "metadata": {},
   "source": [
    "What if the same features but in less price? say a 60$."
   ]
  },
  {
   "cell_type": "code",
   "execution_count": 13,
   "id": "28d7e803-c618-419c-85bc-46d454a09577",
   "metadata": {},
   "outputs": [
    {
     "name": "stdout",
     "output_type": "stream",
     "text": [
      "Its predicted score is 91.4%\n"
     ]
    }
   ],
   "source": [
    "print(\"Its predicted score is {:.3}%\".format(float(reg.predict([[60, 1, 0, 0, 0, 0, 0, 1, 0]])))) #the input is translated in the dummy form"
   ]
  },
  {
   "cell_type": "markdown",
   "id": "88d9fcd1-81e8-4d8a-a6ab-f4dfdabca974",
   "metadata": {},
   "source": [
    "Pretty weird, what about a 1000$!"
   ]
  },
  {
   "cell_type": "code",
   "execution_count": 14,
   "id": "aa91b650-8c7b-49b6-9a53-d4b48546fca7",
   "metadata": {},
   "outputs": [
    {
     "name": "stdout",
     "output_type": "stream",
     "text": [
      "Its predicted score is 93.6%\n"
     ]
    }
   ],
   "source": [
    "print(\"Its predicted score is {:.3}%\".format(float(reg.predict([[1000, 1, 0, 0, 0, 0, 0, 1, 0]])))) #the input is translated in the dummy form"
   ]
  },
  {
   "cell_type": "markdown",
   "id": "5ec1f793-2fc6-4492-a3da-502d3d01dbe5",
   "metadata": {
    "tags": []
   },
   "source": [
    "\n",
    "<center><h1></h1><img src=\"https://pbs.twimg.com/media/CbSNFhRUcAAwVcw.jpg\" alt=\"لم تظبط معنا\" width=\"289\" height=\"382\" style=\"border:2px solid black\"></center>"
   ]
  },
  {
   "cell_type": "code",
   "execution_count": 15,
   "id": "37b29564-4f1e-49e3-a075-0b007632c34c",
   "metadata": {},
   "outputs": [
    {
     "name": "stdout",
     "output_type": "stream",
     "text": [
      "Training error : 6.24%\n",
      "Training error : 6.24%\n"
     ]
    }
   ],
   "source": [
    "from sklearn.metrics import mean_absolute_error\n",
    "print(\"Training error : {:.2f}%\".format(mean_absolute_error(y_train, reg.predict(X_train))))\n",
    "print(\"Training error : {:.2f}%\".format(mean_absolute_error(y_test, reg.predict(X_test))))\n"
   ]
  },
  {
   "cell_type": "markdown",
   "id": "4bb251b9-d381-4d45-a11c-37181439c528",
   "metadata": {},
   "source": [
    "The above analysis is based on NYC airbnb data, thus applies only on the same conditions, it may be biased, knowing that the majority of the analysis was on the Room Type: Entire home/apt and the Neighbourhood: Manhattan with about 25% of it dropped as nulls. The regression model achieves a mere\n",
    "93-ish% accuracy based only on specific features that may get overruled by other place-wise feature. This notebook is only for educational purposes."
   ]
  }
 ],
 "metadata": {
  "kernelspec": {
   "display_name": "Python 3 (ipykernel)",
   "language": "python",
   "name": "python3"
  },
  "language_info": {
   "codemirror_mode": {
    "name": "ipython",
    "version": 3
   },
   "file_extension": ".py",
   "mimetype": "text/x-python",
   "name": "python",
   "nbconvert_exporter": "python",
   "pygments_lexer": "ipython3",
   "version": "3.8.8"
  }
 },
 "nbformat": 4,
 "nbformat_minor": 5
}
